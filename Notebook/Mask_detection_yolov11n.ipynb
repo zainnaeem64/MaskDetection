{
 "cells": [
  {
   "cell_type": "code",
   "execution_count": null,
   "id": "0ace4083",
   "metadata": {},
   "outputs": [],
   "source": [
    "from ultralytics import YOLO\n",
    "from IPython.display import display, Image\n",
    "from roboflow import Roboflow\n",
    "import os\n",
    "from dotenv import load_dotenv"
   ]
  },
  {
   "cell_type": "code",
   "execution_count": null,
   "id": "8f5b862f",
   "metadata": {},
   "outputs": [],
   "source": [
    "load_dotenv()\n",
    "API_KEY = os.getenv('API_KEY')"
   ]
  },
  {
   "cell_type": "code",
   "execution_count": null,
   "id": "3174262a",
   "metadata": {},
   "outputs": [],
   "source": [
    "!yolo task=detect mode=train model=\"yolo11n.pt\" data={dataset.location}/data.yaml epochs=15 imgsz=640 batch=16 name=facemask"
   ]
  },
  {
   "cell_type": "code",
   "execution_count": null,
   "id": "1e4560e3",
   "metadata": {},
   "outputs": [],
   "source": [
    "!yolo task=detect mode=predict model='/home/zain/work/learning/deep_learning/vision/MaskDetection/Notebook/runs/detect/facemask/weights/best.pt' conf=0.25 source={dataset.location}/test/images save=True"
   ]
  },
  {
   "cell_type": "code",
   "execution_count": null,
   "id": "ca3c2984",
   "metadata": {},
   "outputs": [],
   "source": [
    "!yolo val model='/home/zain/work/learning/deep_learning/vision/MaskDetection/Notebook/runs/detect/facemask3/weights/best.pt'  data={dataset.location}/data.yaml imgsz=640 batch=16"
   ]
  }
 ],
 "metadata": {
  "language_info": {
   "name": "python"
  }
 },
 "nbformat": 4,
 "nbformat_minor": 5
}
